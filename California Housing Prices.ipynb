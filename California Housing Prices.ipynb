{
 "cells": [
  {
   "cell_type": "code",
   "execution_count": null,
   "id": "d8f58ff6",
   "metadata": {},
   "outputs": [],
   "source": [
    "import pandas as pd\n",
    "import matplotlib.pyplot as plt\n",
    "import numpy as np\n",
    "import seaborn as sns\n",
    "from scipy import stats\n",
    "from pandas.plotting import scatter_matrix\n",
    "from sklearn.model_selection import StratifiedKFold\n",
    "from sklearn.metrics import confusion_matrix"
   ]
  },
  {
   "cell_type": "code",
   "execution_count": null,
   "id": "f01f0edb",
   "metadata": {},
   "outputs": [],
   "source": [
    "df = pd.read_csv('data/housing.csv', sep=',', encoding='utf8')\n",
    "# df.head()\n",
    "# df.info()"
   ]
  },
  {
   "cell_type": "code",
   "execution_count": null,
   "id": "14eeefe2",
   "metadata": {},
   "outputs": [],
   "source": [
    "df.hist(bins=30, figsize=(20, 15))\n",
    "plt.show()"
   ]
  },
  {
   "cell_type": "code",
   "execution_count": null,
   "id": "87dbaea9",
   "metadata": {},
   "outputs": [],
   "source": [
    "df['housing_median_age'].hist(bins=100, figsize=(10, 8))\n",
    "plt.show()"
   ]
  },
  {
   "cell_type": "code",
   "execution_count": null,
   "id": "5871d213",
   "metadata": {},
   "outputs": [],
   "source": [
    "# df['ocean_proximity'].value_counts()\n",
    "# For columns has a string\n",
    "pd.value_counts(df['ocean_proximity']).plot.bar()"
   ]
  },
  {
   "cell_type": "markdown",
   "id": "3fc7d552",
   "metadata": {},
   "source": [
    "### **Data Description**"
   ]
  },
  {
   "cell_type": "code",
   "execution_count": null,
   "id": "35f3a8a0",
   "metadata": {},
   "outputs": [],
   "source": [
    "df.describe()"
   ]
  },
  {
   "cell_type": "markdown",
   "id": "ba06824d",
   "metadata": {},
   "source": [
    "### **Visualizing Geographical Data**"
   ]
  },
  {
   "cell_type": "code",
   "execution_count": null,
   "id": "95b30924",
   "metadata": {},
   "outputs": [],
   "source": [
    "df.plot(kind='scatter', x='longitude', y='latitude', alpha=0.1)"
   ]
  },
  {
   "cell_type": "markdown",
   "id": "7db970e2",
   "metadata": {},
   "source": [
    "### **Regression to Classification**"
   ]
  },
  {
   "cell_type": "code",
   "execution_count": null,
   "id": "700a8fad",
   "metadata": {},
   "outputs": [],
   "source": [
    "def value_to_class(value):\n",
    "    _cls= 0\n",
    "    if value >= 400000:\n",
    "        _cls = 1 \n",
    "    elif value >= 300000:\n",
    "        _cls = 2\n",
    "    elif value >= 200000:\n",
    "        _cls = 3\n",
    "    elif value >= 100000:\n",
    "        _cls = 4 \n",
    "    else:\n",
    "        _cls = 5\n",
    "        \n",
    "    return _cls\n"
   ]
  },
  {
   "cell_type": "code",
   "execution_count": null,
   "id": "ee2cf5f0",
   "metadata": {},
   "outputs": [],
   "source": [
    "df['median_house_class'] = df['median_house_value'].apply(value_to_class)\n",
    "df['median_house_class']"
   ]
  },
  {
   "cell_type": "code",
   "execution_count": null,
   "id": "a1306ead",
   "metadata": {},
   "outputs": [],
   "source": [
    "df['median_house_class'].hist(bins=30, figsize=(10, 5))\n",
    "plt.show()"
   ]
  },
  {
   "cell_type": "markdown",
   "id": "c51bdfea",
   "metadata": {},
   "source": [
    "### **Missing Values**"
   ]
  },
  {
   "cell_type": "code",
   "execution_count": null,
   "id": "d0a6f4be",
   "metadata": {},
   "outputs": [],
   "source": [
    "mod_df = pd.read_csv('data/housing_missing_value.csv', sep=',', encoding='utf8')\n",
    "mod_df.head()\n"
   ]
  },
  {
   "cell_type": "code",
   "execution_count": null,
   "id": "9c267958",
   "metadata": {},
   "outputs": [],
   "source": [
    "mod_df.isna().sum()"
   ]
  },
  {
   "cell_type": "code",
   "execution_count": null,
   "id": "1c003188",
   "metadata": {},
   "outputs": [],
   "source": [
    "mod_df.dropna(axis=0).head()"
   ]
  },
  {
   "cell_type": "code",
   "execution_count": null,
   "id": "7ed095c3",
   "metadata": {},
   "outputs": [],
   "source": [
    "mod_df.dropna(axis=1, how='any').head()"
   ]
  },
  {
   "cell_type": "code",
   "execution_count": null,
   "id": "38d9a6d0",
   "metadata": {},
   "outputs": [],
   "source": [
    "mod_df['total_rooms'].fillna(1).head()"
   ]
  },
  {
   "cell_type": "code",
   "execution_count": null,
   "id": "07cccb8b",
   "metadata": {},
   "outputs": [],
   "source": [
    "mod_df.fillna(1)"
   ]
  },
  {
   "cell_type": "code",
   "execution_count": null,
   "id": "15e2cc79",
   "metadata": {},
   "outputs": [],
   "source": [
    "mod_df['total_bedrooms'] = mod_df['total_bedrooms'].fillna(mod_df['total_bedrooms'].mean())"
   ]
  },
  {
   "cell_type": "markdown",
   "id": "ceadc4ca",
   "metadata": {},
   "source": [
    "### **Outliers**"
   ]
  },
  {
   "cell_type": "code",
   "execution_count": null,
   "id": "8ba28be2",
   "metadata": {},
   "outputs": [],
   "source": [
    "salaries = {'ID':['e1', 'e2', 'e3', 'e4', 'e5'],\n",
    "            'salary': [1000, 1800, 900, 15100, 3200]\n",
    "            }\n",
    "salaries_df = pd.DataFrame(salaries)\n",
    "salaries_df.head()"
   ]
  },
  {
   "cell_type": "code",
   "execution_count": null,
   "id": "52dd6b3a",
   "metadata": {},
   "outputs": [],
   "source": [
    "salaries_df['salary'].mean()"
   ]
  },
  {
   "cell_type": "code",
   "execution_count": null,
   "id": "0fcbcb99",
   "metadata": {},
   "outputs": [],
   "source": [
    "sns.boxplot(x = df['total_bedrooms'])"
   ]
  },
  {
   "cell_type": "code",
   "execution_count": null,
   "id": "0354eae1",
   "metadata": {},
   "outputs": [],
   "source": [
    "print(\"ALL:\", df['total_rooms'].count())\n",
    "print(\"Outliers:\", df[ (df['total_rooms']>5000) ] ['total_rooms'].count())"
   ]
  },
  {
   "cell_type": "code",
   "execution_count": null,
   "id": "5139a8ad",
   "metadata": {},
   "outputs": [],
   "source": [
    "clean_df = df[ (df['total_rooms']>5000) ]"
   ]
  },
  {
   "cell_type": "code",
   "execution_count": null,
   "id": "359c5cce",
   "metadata": {},
   "outputs": [],
   "source": [
    "fig, ax = plt.subplots(figsize=(10,8))\n",
    "ax.scatter(df['population'], df['median_house_value'])\n",
    "\n",
    "ax.set_xlabel('Population')\n",
    "ax.set_ylabel('Value')\n",
    "plt.show()"
   ]
  },
  {
   "cell_type": "code",
   "execution_count": null,
   "id": "02fbfbd9",
   "metadata": {},
   "outputs": [],
   "source": [
    "t_df = df[df['population']< 12000]\n",
    "fig, ax = plt.subplots(figsize=(10,8))\n",
    "ax.scatter(t_df['population'], t_df['median_house_value'])\n",
    "\n",
    "ax.set_xlabel('Population')\n",
    "ax.set_ylabel('Value')\n",
    "plt.show()"
   ]
  },
  {
   "cell_type": "markdown",
   "id": "ca857807",
   "metadata": {},
   "source": [
    "### **Clean data with many features** to solve outliers probleme"
   ]
  },
  {
   "cell_type": "code",
   "execution_count": null,
   "id": "bf54b039",
   "metadata": {},
   "outputs": [],
   "source": [
    "clean_df = df[ (df['total_rooms'] < 5000) & df['population'] < 20000]"
   ]
  },
  {
   "cell_type": "markdown",
   "id": "4e10ac40",
   "metadata": {},
   "source": [
    "### **Z-Score**"
   ]
  },
  {
   "cell_type": "code",
   "execution_count": null,
   "id": "a4901d3f",
   "metadata": {},
   "outputs": [],
   "source": [
    "z = np.abs(stats.zscore(df.drop(['ocean_proximity'], axis=1)))\n",
    "print(\"Shape of DataFrame after drop:\", df.drop(['ocean_proximity'], axis=1).shape)\n",
    "# Verify the shape of z\n",
    "print(\"Shape of z:\", z.shape)"
   ]
  },
  {
   "cell_type": "code",
   "execution_count": null,
   "id": "cb5b42f3",
   "metadata": {},
   "outputs": [],
   "source": [
    "# Find outlier positions where z-scores > 3\n",
    "_res = np.where(z > 3)\n",
    "print(\"Rows with outliers: \", _res[0])\n",
    "print(\"Columns with outliers: \", _res[1])\n"
   ]
  },
  {
   "cell_type": "code",
   "execution_count": null,
   "id": "e4af95e5",
   "metadata": {},
   "outputs": [],
   "source": [
    "# Access specific element at position (95, 6)\n",
    "z[95][6]\n",
    "\n"
   ]
  },
  {
   "cell_type": "markdown",
   "id": "3936c735",
   "metadata": {},
   "source": [
    "### **Correlation**"
   ]
  },
  {
   "cell_type": "code",
   "execution_count": null,
   "id": "837e566b",
   "metadata": {},
   "outputs": [],
   "source": [
    "x = np.random.randint(0,100,1000)\n",
    "y = np.random.randint(0,100,1000)\n",
    "\n",
    "np.corrcoef(x,y)"
   ]
  },
  {
   "cell_type": "code",
   "execution_count": null,
   "id": "369d7b13",
   "metadata": {},
   "outputs": [],
   "source": [
    "plt.scatter(x,y)\n",
    "plt.show()"
   ]
  },
  {
   "cell_type": "code",
   "execution_count": null,
   "id": "e70e33dd",
   "metadata": {},
   "outputs": [],
   "source": [
    "x = np.random.randint(0,100,1000)\n",
    "y = x + np.random.randint(0,100,1000)\n",
    "np.corrcoef(x,y)\n",
    "plt.scatter(x,y)\n",
    "plt.show()"
   ]
  },
  {
   "cell_type": "code",
   "execution_count": null,
   "id": "a458d13d",
   "metadata": {},
   "outputs": [],
   "source": [
    "x = np.random.randint(0,100,1000)\n",
    "y = 100 -x - np.random.randint(0,100,1000)\n",
    "np.corrcoef(x,y)\n",
    "plt.scatter(x,y)\n",
    "plt.show()"
   ]
  },
  {
   "cell_type": "code",
   "execution_count": null,
   "id": "d47d6dfe",
   "metadata": {},
   "outputs": [],
   "source": [
    "# Assuming df is your DataFrame\n",
    "# Drop non-numeric columns, e.g., 'ocean_proximity'\n",
    "numeric_df = df.select_dtypes(include=[np.number])\n",
    "\n",
    "# Calculate the correlation matrix\n",
    "corr_matrix = numeric_df.corr()\n",
    "\n",
    "# Display the correlation matrix\n",
    "print(corr_matrix)\n"
   ]
  },
  {
   "cell_type": "code",
   "execution_count": null,
   "id": "5f4c87a9",
   "metadata": {},
   "outputs": [],
   "source": [
    "cols = [\"median_income\", \"median_house_value\", \"total_rooms\", \"housing_median_age\"]\n",
    "scatter_matrix(df[cols], figsize=(20, 14))"
   ]
  },
  {
   "cell_type": "code",
   "execution_count": null,
   "id": "64ef6b7d",
   "metadata": {},
   "outputs": [],
   "source": [
    "sns.boxenplot(x = df['median_income'])"
   ]
  },
  {
   "cell_type": "code",
   "execution_count": null,
   "id": "a8d0a3c6",
   "metadata": {},
   "outputs": [],
   "source": [
    "print(df['median_income'].shape[0])\n",
    "print(df[(df['median_income'] >= 8 )]['median_income'].shape[0])"
   ]
  },
  {
   "cell_type": "code",
   "execution_count": null,
   "id": "0e487978",
   "metadata": {},
   "outputs": [],
   "source": [
    "df_new = df.drop(columns='ocean_proximity')\n",
    "clean_df = df_new[(df_new['median_income'] < 8)]\n",
    "df_new.corr()"
   ]
  },
  {
   "cell_type": "code",
   "execution_count": null,
   "id": "708cb7a1",
   "metadata": {},
   "outputs": [],
   "source": [
    "clean_df.corr()"
   ]
  },
  {
   "cell_type": "code",
   "execution_count": null,
   "id": "cfe5cd6e",
   "metadata": {},
   "outputs": [],
   "source": [
    "cols = [\"median_income\", \"median_house_value\", \"total_rooms\", \"housing_median_age\"]\n",
    "scatter_matrix(clean_df[cols], figsize=(20, 14))"
   ]
  },
  {
   "cell_type": "code",
   "execution_count": null,
   "id": "4d2e4be0",
   "metadata": {},
   "outputs": [],
   "source": [
    "plt.figure(figsize=(20,20))\n",
    "plt.matshow(df_new.corr(), fignum=1)\n",
    "\n",
    "plt.xticks(range(len(df_new.columns)), df_new.columns)\n",
    "plt.yticks(range(len(df_new.columns)), df_new.columns)\n",
    "\n",
    "plt.colorbar()\n",
    "plt.show()"
   ]
  },
  {
   "cell_type": "markdown",
   "id": "19b9261c",
   "metadata": {},
   "source": [
    "### **KFold**"
   ]
  },
  {
   "cell_type": "code",
   "execution_count": null,
   "id": "ecae3712",
   "metadata": {},
   "outputs": [],
   "source": [
    "data_y = df['median_house_class']\n",
    "data_x = df.drop(['median_house_class', 'median_house_value'], axis=1)\n",
    "data_x.shape[0]"
   ]
  },
  {
   "cell_type": "code",
   "execution_count": null,
   "id": "fa93b78a",
   "metadata": {},
   "outputs": [],
   "source": [
    "from sklearn.model_selection import StratifiedKFold\n",
    "\n",
    "# Initialize StratifiedKFold with 5 splits, without shuffling\n",
    "skf = StratifiedKFold(n_splits=5, shuffle=False)\n",
    "\n",
    "# Loop through each split created by StratifiedKFold\n",
    "for (train_index, test_index) in skf.split(data_x, data_y):\n",
    "    \n",
    "    # Select the training data for the current fold\n",
    "    data_train_x = data_x.iloc[train_index]\n",
    "    data_train_y = data_y.iloc[train_index]\n",
    "\n",
    "    # Select the testing data for the current fold\n",
    "    data_test_x = data_x.iloc[test_index]\n",
    "    data_test_y = data_y.iloc[test_index]\n",
    "\n",
    "    # Print the number of samples in the test set for the current fold\n",
    "    print(data_test_x.shape[0])\n",
    "    \n",
    "    # Print the class distribution in the test set for the current fold\n",
    "    print(data_test_y.value_counts())\n",
    "    \n",
    "    # Print a separator for clarity\n",
    "    print(\"\\n===========\\n\")"
   ]
  },
  {
   "cell_type": "markdown",
   "id": "f8e36efb",
   "metadata": {},
   "source": [
    "### **Confusion Matrix**"
   ]
  },
  {
   "cell_type": "code",
   "execution_count": null,
   "id": "c3dbfd8d",
   "metadata": {},
   "outputs": [],
   "source": [
    "y_true = [1, 2, 2, 0, 0, 1]\n",
    "y_pred = [1, 0, 2, 1, 2, 1]\n",
    "print(confusion_matrix(y_true, y_pred))"
   ]
  },
  {
   "cell_type": "code",
   "execution_count": null,
   "id": "a6165b9c",
   "metadata": {},
   "outputs": [],
   "source": [
    "y_true = ['degree-1', 'degree-1', 'degree-2', 'degree-3', 'degree-3', 'degree-2']\n",
    "y_pred = ['degree-2', 'degree-1', 'degree-3', 'degree-1', 'degree-3', 'degree-2']\n",
    "\n",
    "# For ordring the label\n",
    "lbls = ['degree-1', 'degree-2', 'degree-3']\n",
    "print(confusion_matrix( y_true, y_pred, labels=lbls ))"
   ]
  },
  {
   "cell_type": "code",
   "execution_count": null,
   "id": "c3bc3181",
   "metadata": {},
   "outputs": [],
   "source": [
    "y_true = ['degree-1', 'degree-1', 'degree-2', 'degree-3', 'degree-3', 'degree-2']\n",
    "y_pred = ['degree-2', 'degree-1', 'degree-3', 'degree-1', 'degree-3', 'degree-2']\n",
    "\n",
    "lbls = ['degree-1', 'degree-2', 'degree-3']\n",
    "cm = confusion_matrix( y_true, y_pred, labels=lbls )\n",
    "\n",
    "fig = plt.figure()\n",
    "ax = fig.add_subplot(1,1,1)\n",
    "cax = ax.matshow(cm)\n",
    "\n",
    "fig.colorbar(cax)\n",
    "ax.set_xticklabels([''] + lbls)\n",
    "ax.set_yticklabels([''] + lbls)\n",
    "plt.xlabel('Predicted')\n",
    "plt.ylabel('True')\n",
    "plt.show()"
   ]
  },
  {
   "cell_type": "markdown",
   "id": "6f059a25",
   "metadata": {},
   "source": [
    "### **Accuracy**"
   ]
  },
  {
   "cell_type": "code",
   "execution_count": null,
   "id": "2019ce74",
   "metadata": {},
   "outputs": [],
   "source": [
    "from sklearn.metrics import accuracy_score\n",
    "\n",
    "y_true = ['degree-1', 'degree-1', 'degree-1', 'degree-3', 'degree-3', 'degree-2']\n",
    "y_pred = ['degree-2', 'degree-1', 'degree-3', 'degree-3', 'degree-3', 'degree-2']\n",
    "\n",
    "print(accuracy_score(y_true, y_pred))"
   ]
  },
  {
   "cell_type": "code",
   "execution_count": null,
   "id": "f0a45155",
   "metadata": {},
   "outputs": [],
   "source": [
    "from sklearn.metrics import accuracy_score\n",
    "\n",
    "y_true = ['degree-1', 'degree-1', 'degree-1', 'degree-3', 'degree-3', 'degree-2']\n",
    "y_pred = ['degree-1', 'degree-1', 'degree-1', 'degree-1', 'degree-1', 'degree-1']\n",
    "\n",
    "print(accuracy_score(y_true, y_pred))"
   ]
  },
  {
   "cell_type": "markdown",
   "id": "2ce56c01",
   "metadata": {},
   "source": [
    "### **Precision/Recall/F1-Score**"
   ]
  },
  {
   "cell_type": "markdown",
   "id": "220a759c",
   "metadata": {},
   "source": [
    "#### **Classification Report**"
   ]
  },
  {
   "cell_type": "code",
   "execution_count": null,
   "id": "682e5694",
   "metadata": {},
   "outputs": [],
   "source": [
    "from sklearn.metrics import classification_report\n",
    "\n",
    "y_true = ['degree-1', 'degree-1', 'degree-1', 'degree-3', 'degree-3', 'degree-2', 'degree-3', 'degree-1']\n",
    "y_pred = ['degree-2', 'degree-2', 'degree-1', 'degree-3', 'degree-2', 'degree-1', 'degree-3', 'degree-1']\n",
    "\n",
    "print(classification_report(y_true, y_pred))"
   ]
  },
  {
   "cell_type": "code",
   "execution_count": null,
   "id": "cff4958a",
   "metadata": {},
   "outputs": [],
   "source": [
    "from sklearn.metrics import classification_report\n",
    "\n",
    "y_true = ['degree-1', 'degree-1', 'degree-1', 'degree-3', 'degree-3', 'degree-2']\n",
    "y_pred = ['degree-1', 'degree-1', 'degree-1', 'degree-1', 'degree-1', 'degree-1']\n",
    "\n",
    "print(classification_report(y_true, y_pred))"
   ]
  },
  {
   "cell_type": "code",
   "execution_count": 13,
   "id": "ea72ee75",
   "metadata": {},
   "outputs": [
    {
     "name": "stdout",
     "output_type": "stream",
     "text": [
      "              precision    recall  f1-score   support\n",
      "\n",
      "     class 0       0.50      1.00      0.67         1\n",
      "     class 1       0.00      0.00      0.00         1\n",
      "     class 2       1.00      0.67      0.80         3\n",
      "\n",
      "    accuracy                           0.60         5\n",
      "   macro avg       0.50      0.56      0.49         5\n",
      "weighted avg       0.70      0.60      0.61         5\n",
      "\n",
      "              precision    recall  f1-score   support\n",
      "\n",
      "           1       1.00      0.67      0.80         3\n",
      "           2       0.00      0.00      0.00         0\n",
      "           3       0.00      0.00      0.00         0\n",
      "\n",
      "   micro avg       1.00      0.67      0.80         3\n",
      "   macro avg       0.33      0.22      0.27         3\n",
      "weighted avg       1.00      0.67      0.80         3\n",
      "\n"
     ]
    },
    {
     "name": "stderr",
     "output_type": "stream",
     "text": [
      "/home/maher/Documents/workspacePy/machine-learning-for-beginners/ml-env/lib/python3.12/site-packages/sklearn/metrics/_classification.py:1565: UndefinedMetricWarning: Precision is ill-defined and being set to 0.0 in labels with no predicted samples. Use `zero_division` parameter to control this behavior.\n",
      "  _warn_prf(average, modifier, f\"{metric.capitalize()} is\", len(result))\n",
      "/home/maher/Documents/workspacePy/machine-learning-for-beginners/ml-env/lib/python3.12/site-packages/sklearn/metrics/_classification.py:1565: UndefinedMetricWarning: Recall is ill-defined and being set to 0.0 in labels with no true samples. Use `zero_division` parameter to control this behavior.\n",
      "  _warn_prf(average, modifier, f\"{metric.capitalize()} is\", len(result))\n",
      "/home/maher/Documents/workspacePy/machine-learning-for-beginners/ml-env/lib/python3.12/site-packages/sklearn/metrics/_classification.py:1565: UndefinedMetricWarning: F-score is ill-defined and being set to 0.0 in labels with no true nor predicted samples. Use `zero_division` parameter to control this behavior.\n",
      "  _warn_prf(average, modifier, f\"{metric.capitalize()} is\", len(result))\n",
      "/home/maher/Documents/workspacePy/machine-learning-for-beginners/ml-env/lib/python3.12/site-packages/sklearn/metrics/_classification.py:1565: UndefinedMetricWarning: Precision is ill-defined and being set to 0.0 in labels with no predicted samples. Use `zero_division` parameter to control this behavior.\n",
      "  _warn_prf(average, modifier, f\"{metric.capitalize()} is\", len(result))\n",
      "/home/maher/Documents/workspacePy/machine-learning-for-beginners/ml-env/lib/python3.12/site-packages/sklearn/metrics/_classification.py:1565: UndefinedMetricWarning: Recall is ill-defined and being set to 0.0 in labels with no true samples. Use `zero_division` parameter to control this behavior.\n",
      "  _warn_prf(average, modifier, f\"{metric.capitalize()} is\", len(result))\n",
      "/home/maher/Documents/workspacePy/machine-learning-for-beginners/ml-env/lib/python3.12/site-packages/sklearn/metrics/_classification.py:1565: UndefinedMetricWarning: F-score is ill-defined and being set to 0.0 in labels with no true nor predicted samples. Use `zero_division` parameter to control this behavior.\n",
      "  _warn_prf(average, modifier, f\"{metric.capitalize()} is\", len(result))\n",
      "/home/maher/Documents/workspacePy/machine-learning-for-beginners/ml-env/lib/python3.12/site-packages/sklearn/metrics/_classification.py:1565: UndefinedMetricWarning: Precision is ill-defined and being set to 0.0 in labels with no predicted samples. Use `zero_division` parameter to control this behavior.\n",
      "  _warn_prf(average, modifier, f\"{metric.capitalize()} is\", len(result))\n",
      "/home/maher/Documents/workspacePy/machine-learning-for-beginners/ml-env/lib/python3.12/site-packages/sklearn/metrics/_classification.py:1565: UndefinedMetricWarning: Recall is ill-defined and being set to 0.0 in labels with no true samples. Use `zero_division` parameter to control this behavior.\n",
      "  _warn_prf(average, modifier, f\"{metric.capitalize()} is\", len(result))\n",
      "/home/maher/Documents/workspacePy/machine-learning-for-beginners/ml-env/lib/python3.12/site-packages/sklearn/metrics/_classification.py:1565: UndefinedMetricWarning: F-score is ill-defined and being set to 0.0 in labels with no true nor predicted samples. Use `zero_division` parameter to control this behavior.\n",
      "  _warn_prf(average, modifier, f\"{metric.capitalize()} is\", len(result))\n"
     ]
    }
   ],
   "source": [
    "y_true = [0, 1, 2, 2, 2]\n",
    "y_pred = [0, 0, 2, 2, 1]\n",
    "target_names = ['class 0', 'class 1', 'class 2']\n",
    "print(classification_report(y_true, y_pred, target_names=target_names))\n",
    "\n",
    "\n",
    "\n",
    "y_pred = [1, 1, 0]\n",
    "y_true = [1, 1, 1]\n",
    "print(classification_report(y_true, y_pred, labels=[1, 2, 3]))\n",
    "\n"
   ]
  }
 ],
 "metadata": {
  "kernelspec": {
   "display_name": "ml-env",
   "language": "python",
   "name": "python3"
  },
  "language_info": {
   "codemirror_mode": {
    "name": "ipython",
    "version": 3
   },
   "file_extension": ".py",
   "mimetype": "text/x-python",
   "name": "python",
   "nbconvert_exporter": "python",
   "pygments_lexer": "ipython3",
   "version": "3.12.3"
  },
  "widgets": {
   "application/vnd.jupyter.widget-state+json": {
    "state": {},
    "version_major": 2,
    "version_minor": 0
   }
  }
 },
 "nbformat": 4,
 "nbformat_minor": 5
}
